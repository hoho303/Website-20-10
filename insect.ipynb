{
  "nbformat": 4,
  "nbformat_minor": 0,
  "metadata": {
    "colab": {
      "name": "insect.ipynb",
      "version": "0.3.2",
      "provenance": [],
      "collapsed_sections": [],
      "include_colab_link": true
    },
    "kernelspec": {
      "name": "python3",
      "display_name": "Python 3"
    },
    "accelerator": "GPU"
  },
  "cells": [
    {
      "cell_type": "markdown",
      "metadata": {
        "id": "view-in-github",
        "colab_type": "text"
      },
      "source": [
        "<a href=\"https://colab.research.google.com/github/hoho303/hoho303.github.io/blob/master/insect.ipynb\" target=\"_parent\"><img src=\"https://colab.research.google.com/assets/colab-badge.svg\" alt=\"Open In Colab\"/></a>"
      ]
    },
    {
      "cell_type": "code",
      "metadata": {
        "id": "lEVypnPntJha",
        "colab_type": "code",
        "outputId": "c70c1b5e-25a9-454b-d25a-5e948a9aaf06",
        "colab": {
          "base_uri": "https://localhost:8080/",
          "height": 54
        }
      },
      "source": [
        "from google.colab import drive\n",
        "drive.mount('/content/drive')"
      ],
      "execution_count": 7,
      "outputs": [
        {
          "output_type": "stream",
          "text": [
            "Drive already mounted at /content/drive; to attempt to forcibly remount, call drive.mount(\"/content/drive\", force_remount=True).\n"
          ],
          "name": "stdout"
        }
      ]
    },
    {
      "cell_type": "code",
      "metadata": {
        "id": "tNzqz7IqtVNf",
        "colab_type": "code",
        "colab": {}
      },
      "source": [
        "from imutils import paths\n",
        "from keras.constraints import max_norm\n",
        "from keras.layers.normalization import BatchNormalization\n",
        "from keras.applications import VGG16\n",
        "from keras.applications import imagenet_utils\n",
        "from keras.preprocessing.image import img_to_array\n",
        "from keras.preprocessing.image import load_img\n",
        "from sklearn.preprocessing import LabelEncoder\n",
        "from sklearn.preprocessing import LabelBinarizer\n",
        "from sklearn.model_selection import train_test_split\n",
        "from keras.preprocessing.image import ImageDataGenerator\n",
        "from keras.optimizers import SGD\n",
        "from keras.optimizers import RMSprop,Adam\n",
        "from keras.applications import VGG19,VGG16,Xception\n",
        "from keras.regularizers import l2,l1\n",
        "from keras.layers import Input\n",
        "from keras.models import Model\n",
        "from keras.layers.core import Dense\n",
        "from keras.layers.core import Dropout\n",
        "from keras.layers.core import Flatten\n",
        "import numpy as np\n",
        "import random\n",
        "import os\n",
        "from matplotlib import pyplot"
      ],
      "execution_count": 0,
      "outputs": []
    },
    {
      "cell_type": "code",
      "metadata": {
        "id": "RWTKWT1DvNOp",
        "colab_type": "code",
        "colab": {}
      },
      "source": [
        "image_path = list(paths.list_images('./drive/My Drive/dataset/'))\n",
        "\n",
        "random.shuffle(image_path)"
      ],
      "execution_count": 0,
      "outputs": []
    },
    {
      "cell_type": "code",
      "metadata": {
        "id": "kKRHTHGnwzIX",
        "colab_type": "code",
        "colab": {}
      },
      "source": [
        "labels = [p.split(os.path.sep)[-2] for p in image_path]\n",
        "\n",
        "le = LabelEncoder()\n",
        "labels = le.fit_transform(labels)\n",
        "\n",
        "# One-hot encoding\n",
        "lb = LabelBinarizer()\n",
        "labels = lb.fit_transform(labels)"
      ],
      "execution_count": 0,
      "outputs": []
    },
    {
      "cell_type": "code",
      "metadata": {
        "id": "bF19eCVk22Xu",
        "colab_type": "code",
        "colab": {}
      },
      "source": [
        "from PIL import ImageFile\n",
        "ImageFile.LOAD_TRUNCATED_IMAGES = True"
      ],
      "execution_count": 0,
      "outputs": []
    },
    {
      "cell_type": "code",
      "metadata": {
        "id": "VclCRApRw1Wh",
        "colab_type": "code",
        "outputId": "1393ed45-3676-4d47-b75d-c7ef85cd4a2c",
        "colab": {
          "base_uri": "https://localhost:8080/",
          "height": 71
        }
      },
      "source": [
        "list_image = []\n",
        "for (j, imagePath) in enumerate(image_path):\n",
        "    image = load_img(imagePath, target_size=(224, 224))\n",
        "    image = img_to_array(image)\n",
        "    \n",
        "    image = np.expand_dims(image, 0)\n",
        "    image = imagenet_utils.preprocess_input(image)\n",
        "    \n",
        "    list_image.append(image)\n",
        "    \n",
        "list_image = np.vstack(list_image)"
      ],
      "execution_count": 12,
      "outputs": [
        {
          "output_type": "stream",
          "text": [
            "/usr/local/lib/python3.6/dist-packages/PIL/Image.py:914: UserWarning: Palette images with Transparency   expressed in bytes should be converted to RGBA images\n",
            "  'to RGBA images')\n"
          ],
          "name": "stderr"
        }
      ]
    },
    {
      "cell_type": "code",
      "metadata": {
        "id": "-bxRWni5w3--",
        "colab_type": "code",
        "colab": {
          "base_uri": "https://localhost:8080/",
          "height": 173
        },
        "outputId": "48d49f66-9f49-4cca-f4d7-cdeceb37a0fa"
      },
      "source": [
        "# Load model VGG 19 của ImageNet dataset, include_top=False để bỏ phần Fully connected layer ở cuối.\n",
        "baseModel = VGG19(weights='imagenet', include_top=False, input_tensor=Input(shape=(224, 224, 3)))\n",
        "\n",
        "# Xây thêm các layer\n",
        "# Lấy output của ConvNet trong VGG16\n",
        "fcHead = baseModel.output\n",
        "\n",
        "# Flatten trước khi dùng FCs\n",
        "fcHead = Flatten(name='flatten')(fcHead)\n",
        "\n",
        "# Thêm FC\n",
        "fcHead = Dense(256, activation='relu')(fcHead)\n",
        "#fcHead = BatchNormalization()(fcHead)\n",
        "fcHead = Dropout(0.5)(fcHead)\n",
        "# Output layer với softmax activation\n",
        "fcHead = Dense(15, activation='softmax')(fcHead)\n",
        "# Xây dựng model bằng việc nối ConvNet của VGG19 và fcHead\n",
        "model = model = Model(inputs=baseModel.input, outputs=fcHead)"
      ],
      "execution_count": 13,
      "outputs": [
        {
          "output_type": "stream",
          "text": [
            "WARNING:tensorflow:From /usr/local/lib/python3.6/dist-packages/tensorflow/python/framework/op_def_library.py:263: colocate_with (from tensorflow.python.framework.ops) is deprecated and will be removed in a future version.\n",
            "Instructions for updating:\n",
            "Colocations handled automatically by placer.\n",
            "Downloading data from https://github.com/fchollet/deep-learning-models/releases/download/v0.1/vgg19_weights_tf_dim_ordering_tf_kernels_notop.h5\n",
            "80142336/80134624 [==============================] - 1s 0us/step\n",
            "WARNING:tensorflow:From /usr/local/lib/python3.6/dist-packages/keras/backend/tensorflow_backend.py:3445: calling dropout (from tensorflow.python.ops.nn_ops) with keep_prob is deprecated and will be removed in a future version.\n",
            "Instructions for updating:\n",
            "Please use `rate` instead of `keep_prob`. Rate should be set to `rate = 1 - keep_prob`.\n"
          ],
          "name": "stdout"
        }
      ]
    },
    {
      "cell_type": "code",
      "metadata": {
        "id": "MCdqZYH-l69U",
        "colab_type": "code",
        "colab": {}
      },
      "source": [
        "X_train, X_test, y_train, y_test = train_test_split(list_image, labels, test_size=0.2, random_state=42)"
      ],
      "execution_count": 0,
      "outputs": []
    },
    {
      "cell_type": "code",
      "metadata": {
        "id": "Fv5QOgjUw7a9",
        "colab_type": "code",
        "colab": {}
      },
      "source": [
        "aug_train = ImageDataGenerator(rescale = 1./255,\n",
        "                                shear_range=0.2,\n",
        "                                horizontal_flip = True,\n",
        "                                fill_mode = \"nearest\",\n",
        "                                zoom_range = 0.2,\n",
        "                                width_shift_range = 0.1,\n",
        "                                height_shift_range=0.1,\n",
        "                                rotation_range=30)\n",
        "# aug_train = ImageDataGenerator(rescale=1./255, rotation_range=30, width_shift_range=0.1, height_shift_range=0.1, shear_range=0.2, \n",
        "#                          zoom_range=0.2, horizontal_flip=True, fill_mode='nearest')\n",
        "# augementation cho test\n",
        "aug_test= ImageDataGenerator(rescale = 1./255)"
      ],
      "execution_count": 0,
      "outputs": []
    },
    {
      "cell_type": "code",
      "metadata": {
        "id": "6Cy8mlyPh_c6",
        "colab_type": "code",
        "outputId": "f90befb1-32af-43ce-ab41-c34506c6850a",
        "colab": {
          "base_uri": "https://localhost:8080/",
          "height": 156
        }
      },
      "source": [
        "# freeze VGG model\n",
        "for layer in baseModel.layers:\n",
        "    layer.trainable = False\n",
        "    \n",
        "opt = Adam(lr=0.001)\n",
        "model.compile(opt, 'categorical_crossentropy', ['accuracy'])\n",
        "numOfEpoch = 30\n",
        "H = model.fit_generator(aug_train.flow(X_train, y_train, batch_size=32), \n",
        "                        steps_per_epoch=len(X_train)//32,\n",
        "                        validation_data=(aug_test.flow(X_test, y_test, batch_size=32)),\n",
        "                        validation_steps=len(X_test)//32,\n",
        "                        epochs=numOfEpoch)"
      ],
      "execution_count": 0,
      "outputs": [
        {
          "output_type": "stream",
          "text": [
            "WARNING:tensorflow:From /usr/local/lib/python3.6/dist-packages/tensorflow/python/ops/math_ops.py:3066: to_int32 (from tensorflow.python.ops.math_ops) is deprecated and will be removed in a future version.\n",
            "Instructions for updating:\n",
            "Use tf.cast instead.\n",
            "Epoch 1/30\n",
            "184/184 [==============================] - 109s 592ms/step - loss: 2.8614 - acc: 0.1456 - val_loss: 2.2809 - val_acc: 0.2989\n",
            "Epoch 2/30\n",
            "102/184 [===============>..............] - ETA: 36s - loss: 2.4497 - acc: 0.1719"
          ],
          "name": "stdout"
        }
      ]
    },
    {
      "cell_type": "code",
      "metadata": {
        "id": "j6Pfi9UGx1Y_",
        "colab_type": "code",
        "colab": {}
      },
      "source": [
        "for layer in model.layers:\n",
        "    layer.trainable = True\n",
        "\n",
        "numOfEpoch = 100\n",
        "opt = SGD(lr=0.001,decay=1e-6, momentum=0.9, nesterov=True)\n",
        "model.compile(opt, 'categorical_crossentropy', ['accuracy'])\n",
        "H = model.fit_generator(aug_train.flow(X_train, y_train, batch_size=32), \n",
        "                        steps_per_epoch=len(X_train)//32,\n",
        "                        validation_data=(aug_test.flow(X_test, y_test, batch_size=32)),\n",
        "                        validation_steps=len(X_test)//32,\n",
        "                        epochs=numOfEpoch)"
      ],
      "execution_count": 0,
      "outputs": []
    },
    {
      "cell_type": "code",
      "metadata": {
        "id": "gGGrs0t4cFW1",
        "colab_type": "code",
        "colab": {}
      },
      "source": [
        "pyplot.plot(H.history['acc'], label='train')\n",
        "pyplot.plot(H.history['val_acc'], label='test')\n",
        "pyplot.legend()\n",
        "pyplot.show()"
      ],
      "execution_count": 0,
      "outputs": []
    },
    {
      "cell_type": "code",
      "metadata": {
        "id": "s1tTsELUEIQT",
        "colab_type": "code",
        "colab": {}
      },
      "source": [
        "pyplot.plot(H.history['loss'], label='train')\n",
        "pyplot.plot(H.history['val_loss'], label='test')\n",
        "pyplot.legend()\n",
        "pyplot.show()"
      ],
      "execution_count": 0,
      "outputs": []
    }
  ]
}